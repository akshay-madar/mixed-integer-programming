{
 "cells": [
  {
   "cell_type": "code",
   "execution_count": 1,
   "metadata": {},
   "outputs": [],
   "source": [
    "from __future__ import print_function\n",
    "from ortools.linear_solver import pywraplp"
   ]
  },
  {
   "cell_type": "markdown",
   "metadata": {},
   "source": [
    "### Cbc (Coin-or branch and cut) is an open-source mixed integer programming solver written in C++.\n",
    "\n",
    "Some important links for reference:\n",
    "#### 1) http://web.tecnico.ulisboa.pt/mcasquilho/compute/_linpro/TaylorB_module_c.pdf\n",
    "#### 2) http://jmvidal.cse.sc.edu/library/land60a.pdf\n",
    "#### 3) https://www.gurobi.com/resource/mip-basics/\n",
    "#### 4) http://web.mit.edu/16.410/www/lectures_fall04/L18-19-IP-BB.pdf\n",
    "#### 5) https://documentation.sas.com/docsetId=ormpug&docsetTarget=ormpug_milpsolver_details01.htm&docsetVersion=15.1&locale=en\n"
   ]
  },
  {
   "cell_type": "code",
   "execution_count": 14,
   "metadata": {},
   "outputs": [],
   "source": [
    "# for algo. demo\n",
    "\n",
    "def opt():\n",
    "    # creating the mip solver with the CBC backend.\n",
    "    solver = pywraplp.Solver('simple_mip_program',\n",
    "                             pywraplp.Solver.CBC_MIXED_INTEGER_PROGRAMMING)\n",
    "#     solver = pywraplp.Solver('simple_lp_program',\n",
    "#                           pywraplp.Solver.GLOP_LINEAR_PROGRAMMING)\n",
    "\n",
    "    infinity = solver.infinity()\n",
    "    # x and y are integer non-negative variables.\n",
    "    x = solver.IntVar(0.0, infinity, 'x')\n",
    "    y = solver.IntVar(0.0, infinity, 'y')\n",
    "\n",
    "    print('Number of variables =', solver.NumVariables())\n",
    "\n",
    "    # x + 8 * y <= 18.5.\n",
    "    solver.Add(x + 8 * y <= 18.5)\n",
    "\n",
    "    # x <= 4.5.\n",
    "    solver.Add(x <= 4.5)\n",
    "\n",
    "    print('Number of constraints =', solver.NumConstraints())\n",
    "\n",
    "    # Maximize x + 11 * y.\n",
    "    solver.Maximize(x + 11 * y)\n",
    "\n",
    "    status = solver.Solve()\n",
    "\n",
    "    if status == pywraplp.Solver.OPTIMAL:\n",
    "        print('Solution:')\n",
    "        print('Objective value =', solver.Objective().Value())\n",
    "        print('x =', x.solution_value())\n",
    "        print('y =', y.solution_value())\n",
    "    else:\n",
    "        print('The problem does not have an optimal solution.')\n",
    "\n",
    "    print('Problem solved in %f milliseconds' % solver.wall_time())\n",
    "    print('Problem solved in %d iterations' % solver.iterations())\n",
    "    print('Problem solved in %d branch-and-bound nodes' % solver.nodes())"
   ]
  },
  {
   "cell_type": "code",
   "execution_count": 15,
   "metadata": {
    "collapsed": true
   },
   "outputs": [
    {
     "name": "stdout",
     "output_type": "stream",
     "text": [
      "Number of variables = 2\n",
      "Number of constraints = 2\n",
      "Solution:\n",
      "Objective value = 24.0\n",
      "x = 2.0\n",
      "y = 2.0\n",
      "Problem solved in 9.000000 milliseconds\n",
      "Problem solved in 1 iterations\n",
      "Problem solved in 0 branch-and-bound nodes\n"
     ]
    }
   ],
   "source": [
    "opt()"
   ]
  },
  {
   "cell_type": "markdown",
   "metadata": {},
   "source": [
    "### Using MIP to optimize profit maximization for CPG industry partner by creating SKU bundles of least profitable ASIN with possible combinations of fast moving ASINs"
   ]
  },
  {
   "cell_type": "code",
   "execution_count": 22,
   "metadata": {},
   "outputs": [],
   "source": [
    "def opt():\n",
    "    # creating the mip solver with the CBC backend.\n",
    "    solver = pywraplp.Solver('simple_mip_program',\n",
    "                             pywraplp.Solver.CBC_MIXED_INTEGER_PROGRAMMING)\n",
    "\n",
    "    infinity = solver.infinity()\n",
    "    # x and y are integer non-negative variables.\n",
    "    x1 = solver.IntVar(0.0, infinity, 'x1')\n",
    "    x2 = solver.IntVar(0.0, infinity, 'x2')\n",
    "    x3 = solver.IntVar(0.0, infinity, 'x3')\n",
    "    x4 = solver.IntVar(0.0, infinity, 'x4')\n",
    "    x5 = solver.IntVar(0.0, infinity, 'x5')\n",
    "    x6 = solver.IntVar(0.0, infinity, 'x6')\n",
    "    print('Number of variables =', solver.NumVariables())\n",
    "\n",
    "    # constraint for maximum bundle size\n",
    "    solver.Add(x1 + x2 + x3 + x4 + x5 + x6 <= 3)\n",
    "    \n",
    "    # constraint for min bundle size\n",
    "    solver.Add(x1 + x2 + x3 + x4 + x5 + x6 >=2)\n",
    "    \n",
    "    # constraint declaring that least profitable asin must be included in the bundle\n",
    "    solver.Add(x1 == 1)\n",
    "    \n",
    "    # profit constraint\n",
    "    solver.Add(2.598*x1 + 917.0325*x2 + 7.2009*x3 + 137.75*x4 + 606.385*x5 + 407.9325*x6 >= 100) \n",
    "\n",
    "    print('Number of constraints =', solver.NumConstraints())\n",
    "\n",
    "    # Maximize objective function for margin\n",
    "    solver.Maximize(2.9877*x1 + 1054.587*x2 + 8.281*x3 + 158.4125*x4 + 697.342*x5 + 469.122*x6)\n",
    "\n",
    "    status = solver.Solve()\n",
    "\n",
    "    if status == pywraplp.Solver.OPTIMAL:\n",
    "        print('Solution:')\n",
    "        print('Objective value =', solver.Objective().Value())\n",
    "        print('x1 =', x1.solution_value())\n",
    "        print('x2 =', x2.solution_value())\n",
    "        print('x3 =', x3.solution_value())\n",
    "        print('x4 =', x4.solution_value())\n",
    "        print('x5 =', x5.solution_value())\n",
    "        print('x6 =', x6.solution_value())\n",
    "    else:\n",
    "        print('The problem does not have an optimal solution.')\n",
    "\n",
    "    print('Problem solved in %f milliseconds' % solver.wall_time())\n",
    "    print('Problem solved in %d iterations' % solver.iterations())\n",
    "    print('Problem solved in %d branch-and-bound nodes' % solver.nodes())"
   ]
  },
  {
   "cell_type": "code",
   "execution_count": 23,
   "metadata": {},
   "outputs": [
    {
     "name": "stdout",
     "output_type": "stream",
     "text": [
      "Number of variables = 6\n",
      "Number of constraints = 4\n",
      "Solution:\n",
      "Objective value = 2112.1617\n",
      "x1 = 1.0\n",
      "x2 = 2.0\n",
      "x3 = 0.0\n",
      "x4 = 0.0\n",
      "x5 = 0.0\n",
      "x6 = 0.0\n",
      "Problem solved in 12.000000 milliseconds\n",
      "Problem solved in 0 iterations\n",
      "Problem solved in 0 branch-and-bound nodes\n"
     ]
    }
   ],
   "source": [
    "opt()"
   ]
  },
  {
   "cell_type": "code",
   "execution_count": null,
   "metadata": {},
   "outputs": [],
   "source": []
  }
 ],
 "metadata": {
  "kernelspec": {
   "display_name": "Python 3",
   "language": "python",
   "name": "python3"
  },
  "language_info": {
   "codemirror_mode": {
    "name": "ipython",
    "version": 3
   },
   "file_extension": ".py",
   "mimetype": "text/x-python",
   "name": "python",
   "nbconvert_exporter": "python",
   "pygments_lexer": "ipython3",
   "version": "3.7.3"
  }
 },
 "nbformat": 4,
 "nbformat_minor": 2
}
